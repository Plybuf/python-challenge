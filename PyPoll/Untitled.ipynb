{
 "cells": [
  {
   "cell_type": "code",
   "execution_count": 71,
   "metadata": {},
   "outputs": [],
   "source": [
    "#import modules\n",
    "import os\n",
    "import csv\n",
    "from collections import Counter, OrderedDict"
   ]
  },
  {
   "cell_type": "code",
   "execution_count": 11,
   "metadata": {},
   "outputs": [],
   "source": [
    "#Path to the election_data.csv file\n",
    "PyPollCSV = os.path.join(\"Resources\",\"election_data.csv\")"
   ]
  },
  {
   "cell_type": "code",
   "execution_count": 12,
   "metadata": {},
   "outputs": [],
   "source": [
    "#create lists to store the three columns of CSV data\n",
    "#create list of unique candidates so we can then tally info\n",
    "voterID = []\n",
    "County = []\n",
    "candidateList = []\n",
    "candidate0 = []"
   ]
  },
  {
   "cell_type": "code",
   "execution_count": 13,
   "metadata": {},
   "outputs": [],
   "source": [
    "#create variables showing the vote counts\n",
    "Totalvotes = 0"
   ]
  },
  {
   "cell_type": "code",
   "execution_count": 14,
   "metadata": {},
   "outputs": [],
   "source": [
    "#Read CSV file using \"with open\" and csv module\n",
    "with open(PyPollCSV, newline=\"\") as csvfile:\n",
    "    \n",
    "    Pollreader = csv.reader(csvfile, delimiter=\",\")\n",
    "    \n",
    "    #read the header row first\n",
    "    poll_header = next(Pollreader)\n",
    "    \n",
    "    #for loop to process CSV file and work with data\n",
    "    for row in Pollreader:\n",
    "        \n",
    "        #generate list of candidates (this is all that matters)\n",
    "        candidateList.append(row[2])"
   ]
  },
  {
   "cell_type": "code",
   "execution_count": 72,
   "metadata": {},
   "outputs": [
    {
     "name": "stdout",
     "output_type": "stream",
     "text": [
      "Counter({'Khan': 2218231, 'Correy': 704200, 'Li': 492940, \"O'Tooley\": 105630})\n",
      "OrderedDict([('Khan', 2218231), ('Correy', 704200), ('Li', 492940), (\"O'Tooley\", 105630)])\n"
     ]
    }
   ],
   "source": [
    "CountCandidates_unsorted = Counter(candidateList)\n",
    "CountCandidates_unsorted\n",
    "CountCandidates = OrderedDict(CountCandidates_unsorted.most_common())\n",
    "print(CountCandidates_unsorted)\n",
    "print(CountCandidates)"
   ]
  },
  {
   "cell_type": "code",
   "execution_count": 33,
   "metadata": {},
   "outputs": [],
   "source": [
    "candidate_uniques = list(CountCandidates.keys())[:]"
   ]
  },
  {
   "cell_type": "code",
   "execution_count": 35,
   "metadata": {},
   "outputs": [
    {
     "data": {
      "text/plain": [
       "['Khan', 'Correy', 'Li', \"O'Tooley\"]"
      ]
     },
     "execution_count": 35,
     "metadata": {},
     "output_type": "execute_result"
    }
   ],
   "source": [
    "candidate_uniques"
   ]
  },
  {
   "cell_type": "code",
   "execution_count": 39,
   "metadata": {},
   "outputs": [],
   "source": [
    "#khanvotes1 = CountCandidates[(candidate_uniques[1])]"
   ]
  },
  {
   "cell_type": "code",
   "execution_count": 40,
   "metadata": {},
   "outputs": [
    {
     "data": {
      "text/plain": [
       "704200"
      ]
     },
     "execution_count": 40,
     "metadata": {},
     "output_type": "execute_result"
    }
   ],
   "source": [
    "#khanvotes1"
   ]
  },
  {
   "cell_type": "code",
   "execution_count": 41,
   "metadata": {},
   "outputs": [
    {
     "data": {
      "text/plain": [
       "'Khan'"
      ]
     },
     "execution_count": 41,
     "metadata": {},
     "output_type": "execute_result"
    }
   ],
   "source": [
    "#khanname = candidate_uniques[0]\n",
    "#khanname"
   ]
  },
  {
   "cell_type": "code",
   "execution_count": 51,
   "metadata": {},
   "outputs": [],
   "source": [
    "numvotes = len(candidateList)"
   ]
  },
  {
   "cell_type": "code",
   "execution_count": 52,
   "metadata": {},
   "outputs": [
    {
     "data": {
      "text/plain": [
       "3521001"
      ]
     },
     "execution_count": 52,
     "metadata": {},
     "output_type": "execute_result"
    }
   ],
   "source": [
    "numvotes"
   ]
  },
  {
   "cell_type": "code",
   "execution_count": 62,
   "metadata": {},
   "outputs": [],
   "source": [
    "candidate1_votes = CountCandidates[(candidate_uniques[0])]\n",
    "candidate1_name = candidate_uniques[0]\n",
    "candidate1_percent = round(((candidate1_votes / numvotes)*100),3)\n",
    "\n",
    "candidate2_votes = CountCandidates[(candidate_uniques[1])]\n",
    "candidate2_name = candidate_uniques[1]\n",
    "candidate2_percent = round(((candidate2_votes / numvotes)*100),3)\n",
    "\n",
    "candidate3_votes = CountCandidates[(candidate_uniques[2])]\n",
    "candidate3_name = candidate_uniques[2]\n",
    "candidate3_percent = round(((candidate3_votes / numvotes)*100),3)\n",
    "\n",
    "candidate4_votes = CountCandidates[(candidate_uniques[3])]\n",
    "candidate4_name = candidate_uniques[3]\n",
    "candidate4_percent = round(((candidate4_votes / numvotes)*100),3)"
   ]
  },
  {
   "cell_type": "code",
   "execution_count": 65,
   "metadata": {},
   "outputs": [
    {
     "name": "stdout",
     "output_type": "stream",
     "text": [
      "Election Results\n",
      "---------------------\n",
      "Total Votes: 3521001\n",
      "---------------------\n",
      "Khan: 63.0% (2218231)\n",
      "Correy: 20.0% (704200)\n",
      "Li: 14.0% (492940)\n",
      "O'Tooley: 3.0% (105630)\n",
      "---------------------\n",
      "Winner: Khan\n",
      "---------------------\n"
     ]
    }
   ],
   "source": [
    "print(\"Election Results\")\n",
    "print(\"---------------------\")\n",
    "print(f\"Total Votes: {str(numvotes)}\")\n",
    "print(\"---------------------\")\n",
    "print(f\"{str(candidate1_name)}: {str(candidate1_percent)}% ({str(candidate1_votes)})\")\n",
    "print(f\"{str(candidate2_name)}: {str(candidate2_percent)}% ({str(candidate2_votes)})\")\n",
    "print(f\"{str(candidate3_name)}: {str(candidate3_percent)}% ({str(candidate3_votes)})\")\n",
    "print(f\"{str(candidate4_name)}: {str(candidate4_percent)}% ({str(candidate4_votes)})\")\n",
    "print(\"---------------------\")\n",
    "print(f\"Winner: {str(candidate1_name)}\")\n",
    "print(\"---------------------\")"
   ]
  },
  {
   "cell_type": "code",
   "execution_count": null,
   "metadata": {},
   "outputs": [],
   "source": []
  }
 ],
 "metadata": {
  "kernelspec": {
   "display_name": "Python 3",
   "language": "python",
   "name": "python3"
  },
  "language_info": {
   "codemirror_mode": {
    "name": "ipython",
    "version": 3
   },
   "file_extension": ".py",
   "mimetype": "text/x-python",
   "name": "python",
   "nbconvert_exporter": "python",
   "pygments_lexer": "ipython3",
   "version": "3.6.6"
  }
 },
 "nbformat": 4,
 "nbformat_minor": 2
}
