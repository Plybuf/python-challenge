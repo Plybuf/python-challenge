{
 "cells": [
  {
   "cell_type": "code",
   "execution_count": 1,
   "metadata": {},
   "outputs": [],
   "source": [
    "import os\n",
    "import csv\n",
    "from datetime import datetime"
   ]
  },
  {
   "cell_type": "code",
   "execution_count": 2,
   "metadata": {},
   "outputs": [],
   "source": [
    "PyBankCSV = os.path.join(\"../..\",\"RutgersDataBootCamp/Homework/03-Python/PyBank/Resources\",\"budget_data.csv\")"
   ]
  },
  {
   "cell_type": "code",
   "execution_count": 3,
   "metadata": {},
   "outputs": [],
   "source": [
    "dates = []\n",
    "profit_loss = []\n",
    "totalprofit = 0\n",
    "maxprofit = 0\n",
    "minprofit = 0"
   ]
  },
  {
   "cell_type": "code",
   "execution_count": 4,
   "metadata": {},
   "outputs": [],
   "source": [
    "#def averageProfit(ProfitBank):\n",
    "#    numbervalues = len(ProfitBank)\n",
    "#    total = sum(int(ProfitBank))\n",
    "    \n",
    "#    return total / numbervalues\n",
    "#    print(f\"Average Change: $ {str(ProfitBank)}\")"
   ]
  },
  {
   "cell_type": "code",
   "execution_count": 5,
   "metadata": {},
   "outputs": [
    {
     "name": "stdout",
     "output_type": "stream",
     "text": [
      "CSV Header: ['Date', 'Profit/Losses']\n",
      "38382578\n",
      "['2010/01', '2010/02', '2010/03', '2010/04', '2010/05', '2010/06', '2010/07', '2010/08', '2010/09', '2010/10', '2010/11', '2010/12', '2011/01', '2011/02', '2011/03', '2011/04', '2011/05', '2011/06', '2011/07', '2011/08', '2011/09', '2011/10', '2011/11', '2011/12', '2012/01', '2012/02', '2012/03', '2012/04', '2012/05', '2012/06', '2012/07', '2012/08', '2012/09', '2012/10', '2012/11', '2012/12', '2013/01', '2013/02', '2013/03', '2013/04', '2013/05', '2013/06', '2013/07', '2013/08', '2013/09', '2013/10', '2013/11', '2013/12', '2014/01', '2014/02', '2014/03', '2014/04', '2014/05', '2014/06', '2014/07', '2014/08', '2014/09', '2014/10', '2014/11', '2014/12', '2015/01', '2015/02', '2015/03', '2015/04', '2015/05', '2015/06', '2015/07', '2015/08', '2015/09', '2015/10', '2015/11', '2015/12', '2016/01', '2016/02', '2016/03', '2016/04', '2016/05', '2016/06', '2016/07', '2016/08', '2016/09', '2016/10', '2016/11', '2016/12', '2017/01', '2017/02']\n",
      "['867884', '984655', '322013', '-69417', '310503', '522857', '1033096', '604885', '-216386', '477532', '893810', '-80353', '779806', '-335203', '697845', '793163', '485070', '584122', '62729', '668179', '899906', '834719', '132003', '309978', '-755566', '1170593', '252788', '1151518', '817256', '570757', '506702', '-1022534', '475062', '779976', '144175', '542494', '359333', '321469', '67780', '471435', '565603', '872480', '789480', '999942', '-1196225', '268997', '-687986', '1150461', '682458', '617856', '824098', '581943', '132864', '448062', '689161', '800701', '1166643', '947333', '578668', '988505', '1139715', '1029471', '687533', '-524626', '158620', '87795', '423389', '840723', '568529', '332067', '989499', '778237', '650000', '-1100387', '-174946', '757143', '445709', '712961', '-1163797', '569899', '768450', '102685', '795914', '60988', '138230', '671099']\n"
     ]
    }
   ],
   "source": [
    "with open(PyBankCSV, newline=\"\") as csvfile:\n",
    "    Bankreader = csv.reader(csvfile, delimiter=\",\")\n",
    "    bank_header = next(Bankreader)\n",
    "    print(f\"CSV Header: {bank_header}\")\n",
    "    \n",
    "\n",
    "    for row in Bankreader:        \n",
    "        monthdate = datetime.strptime((row[0]),'%b-%Y').strftime('%Y/%m')\n",
    "        dates.append(monthdate)\n",
    "        profit_loss.append(row[1])\n",
    "        totalprofit = totalprofit + int(row[1])\n",
    "        \n",
    "        if int(row[1]) > maxprofit:\n",
    "            maxprofit = int(row[1])\n",
    "            maxprofitdate = datetime.strptime((row[0]),'%b-%Y').strftime('%Y/%m')\n",
    "\n",
    "        if int(row[1]) < minprofit:\n",
    "            minprofit = int(row[1])\n",
    "            minprofitdate = datetime.strptime((row[0]),'%b-%Y').strftime('%Y/%m')\n",
    "        \n",
    "        \n",
    "    print(totalprofit)\n",
    "    print(dates)\n",
    "    print(profit_loss)"
   ]
  },
  {
   "cell_type": "code",
   "execution_count": 6,
   "metadata": {},
   "outputs": [],
   "source": [
    "averageprofit = totalprofit / len(profit_loss)"
   ]
  },
  {
   "cell_type": "code",
   "execution_count": 7,
   "metadata": {},
   "outputs": [],
   "source": [
    "num_months = len(dates)"
   ]
  },
  {
   "cell_type": "code",
   "execution_count": 17,
   "metadata": {},
   "outputs": [
    {
     "name": "stdout",
     "output_type": "stream",
     "text": [
      "Financial Analysis\n",
      "----------------------\n",
      "Total Months: 86 \n",
      "Total: $38382578 \n",
      "Average Change: $446309.0465116279 \n",
      "Greatest Increase in Profits: 2012/02 ($1170593)  \n",
      "Greatest Decrease in Profits: 2013/09 ($-1196225)\n"
     ]
    }
   ],
   "source": [
    "#print the results to the terminal\n",
    "print(f\"Financial Analysis\\n----------------------\\nTotal Months: {str(num_months)} \\nTotal: ${str(totalprofit)} \\nAverage Change: ${str(averageprofit)} \\nGreatest Increase in Profits: {str(maxprofitdate)} (${str(maxprofit)})  \\nGreatest Decrease in Profits: {str(minprofitdate)} (${str(minprofit)})\")"
   ]
  },
  {
   "cell_type": "code",
   "execution_count": 18,
   "metadata": {},
   "outputs": [],
   "source": [
    "#locate the output file\n",
    "analysis_path = os.path.join(\"Output\",\"Analysis.txt\")"
   ]
  },
  {
   "cell_type": "code",
   "execution_count": null,
   "metadata": {},
   "outputs": [],
   "source": [
    "#open the output text file\n",
    "with open(analysis_path, 'w'):\n",
    "    "
   ]
  },
  {
   "cell_type": "code",
   "execution_count": null,
   "metadata": {},
   "outputs": [],
   "source": []
  },
  {
   "cell_type": "code",
   "execution_count": null,
   "metadata": {},
   "outputs": [],
   "source": []
  }
 ],
 "metadata": {
  "kernelspec": {
   "display_name": "Python 3",
   "language": "python",
   "name": "python3"
  },
  "language_info": {
   "codemirror_mode": {
    "name": "ipython",
    "version": 3
   },
   "file_extension": ".py",
   "mimetype": "text/x-python",
   "name": "python",
   "nbconvert_exporter": "python",
   "pygments_lexer": "ipython3",
   "version": "3.6.6"
  }
 },
 "nbformat": 4,
 "nbformat_minor": 2
}
